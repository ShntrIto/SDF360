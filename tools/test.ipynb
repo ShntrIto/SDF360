{
 "cells": [
  {
   "cell_type": "code",
   "execution_count": null,
   "metadata": {
    "vscode": {
     "languageId": "plaintext"
    }
   },
   "outputs": [],
   "source": [
    "import numpy as np\n",
    "import matplotlib.pyplot as plt\n",
    "from mpl_toolkits.mplot3d.art3d import Poly3DCollection\n",
    "\n",
    "def visualize_cameras(camera_params):\n",
    "    fig = plt.figure()\n",
    "    ax = fig.add_subplot(111, projection='3d')\n",
    "    \n",
    "    # カメラの可視化に使う配列の処理\n",
    "    N_images = camera_params.shape[0]\n",
    "    \n",
    "    for i in range(N_images):\n",
    "        # 3x3の回転行列Rと並進ベクトルTを取得\n",
    "        R = camera_params[i, :, :3]\n",
    "        T = camera_params[i, :, 3]\n",
    "        h = camera_params[i, 0, 4]  # 画像の高さ\n",
    "        w = camera_params[i, 1, 4]  # 画像の幅\n",
    "        f = camera_params[i, 2, 4]  # 焦点距離\n",
    "        \n",
    "        # カメラ座標系での四角錐の点を定義\n",
    "        # カメラの中心(原点)は(0,0,0)\n",
    "        # 底面の四角形の頂点をカメラ座標系に定義\n",
    "        # z軸が画像の奥行き方向なので、カメラの画像平面はz = fの位置\n",
    "        camera_corners = np.array([\n",
    "            [-w / 2, -h / 2, f],  # 左下\n",
    "            [ w / 2, -h / 2, f],  # 右下\n",
    "            [ w / 2,  h / 2, f],  # 右上\n",
    "            [-w / 2,  h / 2, f],  # 左上\n",
    "        ])\n",
    "        \n",
    "        # カメラの頂点（ピラミッドの頂点）は原点(0, 0, 0)にあるので省略可能\n",
    "        apex = np.array([0, 0, 0])\n",
    "\n",
    "        # カメラ座標系からワールド座標系への変換\n",
    "        camera_corners_world = (R @ camera_corners.T).T + T\n",
    "        apex_world = T\n",
    "\n",
    "        # カメラの四角錐の頂点を可視化\n",
    "        for corner in camera_corners_world:\n",
    "            ax.plot([apex_world[0], corner[0]], [apex_world[1], corner[1]], [apex_world[2], corner[2]], 'k-')\n",
    "\n",
    "        # 底面（四角形）を描画\n",
    "        verts = [camera_corners_world]\n",
    "        ax.add_collection3d(Poly3DCollection(verts, color='cyan', linewidths=1, edgecolors='r', alpha=0.1))\n",
    "    \n",
    "    # 軸のラベル\n",
    "    ax.set_xlabel('X')\n",
    "    ax.set_ylabel('Y')\n",
    "    ax.set_zlabel('Z')\n",
    "\n",
    "    # 等間隔に表示\n",
    "    ax.set_box_aspect([1, 1, 1])\n",
    "    plt.show()\n",
    "\n",
    "# サンプルデータ (N_images=2, 3x5の外部パラメータ)\n",
    "camera_params = np.array([\n",
    "    [[1, 0, 0, 1, 500], [0, 1, 0, 2, 400], [0, 0, 1, 3, 800]],\n",
    "    [[0.866, -0.5, 0, 4, 500], [0.5, 0.866, 0, 5, 400], [0, 0, 1, 6, 800]]\n",
    "])\n",
    "\n",
    "visualize_cameras(camera_params)"
   ]
  }
 ],
 "metadata": {
  "language_info": {
   "name": "python"
  }
 },
 "nbformat": 4,
 "nbformat_minor": 2
}
